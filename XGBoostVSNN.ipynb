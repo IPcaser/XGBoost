{
 "cells": [
  {
   "cell_type": "markdown",
   "id": "08b275a6-7c61-4a47-82dd-07450ed55b54",
   "metadata": {},
   "source": [
    "## XGBoost"
   ]
  },
  {
   "cell_type": "code",
   "execution_count": 1,
   "id": "9f5e086e-382b-47d8-a406-79bd9dc8265a",
   "metadata": {},
   "outputs": [],
   "source": [
    "import pandas as pd\n",
    "from sklearn.model_selection import train_test_split\n"
   ]
  },
  {
   "cell_type": "code",
   "execution_count": 2,
   "id": "e1405aa9-f6cd-4e20-8baa-eb5527a5fb68",
   "metadata": {},
   "outputs": [],
   "source": [
    "df = pd.read_csv('Datasets/Fictionaldata.zip')"
   ]
  },
  {
   "cell_type": "code",
   "execution_count": 3,
   "id": "e4727b48-909c-49c2-a779-e7179e865220",
   "metadata": {},
   "outputs": [
    {
     "data": {
      "text/html": [
       "<div>\n",
       "<style scoped>\n",
       "    .dataframe tbody tr th:only-of-type {\n",
       "        vertical-align: middle;\n",
       "    }\n",
       "\n",
       "    .dataframe tbody tr th {\n",
       "        vertical-align: top;\n",
       "    }\n",
       "\n",
       "    .dataframe thead th {\n",
       "        text-align: right;\n",
       "    }\n",
       "</style>\n",
       "<table border=\"1\" class=\"dataframe\">\n",
       "  <thead>\n",
       "    <tr style=\"text-align: right;\">\n",
       "      <th></th>\n",
       "      <th>Character</th>\n",
       "      <th>Universe</th>\n",
       "      <th>Strength</th>\n",
       "      <th>Speed</th>\n",
       "      <th>Intelligence</th>\n",
       "      <th>SpecialAbilities</th>\n",
       "      <th>Weaknesses</th>\n",
       "      <th>BattleOutcome</th>\n",
       "    </tr>\n",
       "  </thead>\n",
       "  <tbody>\n",
       "    <tr>\n",
       "      <th>0</th>\n",
       "      <td>Wonder Woman</td>\n",
       "      <td>Marvel</td>\n",
       "      <td>7</td>\n",
       "      <td>8</td>\n",
       "      <td>3</td>\n",
       "      <td>Telekinesis</td>\n",
       "      <td>Kryptonite</td>\n",
       "      <td>0</td>\n",
       "    </tr>\n",
       "    <tr>\n",
       "      <th>1</th>\n",
       "      <td>Iron Man</td>\n",
       "      <td>Marvel</td>\n",
       "      <td>4</td>\n",
       "      <td>7</td>\n",
       "      <td>9</td>\n",
       "      <td>Telekinesis</td>\n",
       "      <td>Kryptonite</td>\n",
       "      <td>0</td>\n",
       "    </tr>\n",
       "    <tr>\n",
       "      <th>2</th>\n",
       "      <td>Iron Man</td>\n",
       "      <td>DC Comics</td>\n",
       "      <td>8</td>\n",
       "      <td>7</td>\n",
       "      <td>5</td>\n",
       "      <td>Telekinesis</td>\n",
       "      <td>Magic</td>\n",
       "      <td>0</td>\n",
       "    </tr>\n",
       "    <tr>\n",
       "      <th>3</th>\n",
       "      <td>Spider-Man</td>\n",
       "      <td>DC Comics</td>\n",
       "      <td>5</td>\n",
       "      <td>6</td>\n",
       "      <td>10</td>\n",
       "      <td>Telekinesis</td>\n",
       "      <td>Kryptonite</td>\n",
       "      <td>0</td>\n",
       "    </tr>\n",
       "    <tr>\n",
       "      <th>4</th>\n",
       "      <td>Flash</td>\n",
       "      <td>Marvel</td>\n",
       "      <td>7</td>\n",
       "      <td>6</td>\n",
       "      <td>2</td>\n",
       "      <td>Invisibility</td>\n",
       "      <td>Magic</td>\n",
       "      <td>0</td>\n",
       "    </tr>\n",
       "  </tbody>\n",
       "</table>\n",
       "</div>"
      ],
      "text/plain": [
       "      Character   Universe  Strength  Speed  Intelligence SpecialAbilities  \\\n",
       "0  Wonder Woman     Marvel         7      8             3      Telekinesis   \n",
       "1      Iron Man     Marvel         4      7             9      Telekinesis   \n",
       "2      Iron Man  DC Comics         8      7             5      Telekinesis   \n",
       "3    Spider-Man  DC Comics         5      6            10      Telekinesis   \n",
       "4         Flash     Marvel         7      6             2     Invisibility   \n",
       "\n",
       "   Weaknesses  BattleOutcome  \n",
       "0  Kryptonite              0  \n",
       "1  Kryptonite              0  \n",
       "2       Magic              0  \n",
       "3  Kryptonite              0  \n",
       "4       Magic              0  "
      ]
     },
     "execution_count": 3,
     "metadata": {},
     "output_type": "execute_result"
    }
   ],
   "source": [
    "df.head()"
   ]
  },
  {
   "cell_type": "code",
   "execution_count": 4,
   "id": "1bbdf0fa-e1f6-48af-9851-1983a1d3f97e",
   "metadata": {},
   "outputs": [],
   "source": [
    "X = df.drop(['BattleOutcome'], axis=1)"
   ]
  },
  {
   "cell_type": "code",
   "execution_count": 5,
   "id": "2e376165-0616-4f1d-8377-0c471992179a",
   "metadata": {},
   "outputs": [
    {
     "data": {
      "text/html": [
       "<div>\n",
       "<style scoped>\n",
       "    .dataframe tbody tr th:only-of-type {\n",
       "        vertical-align: middle;\n",
       "    }\n",
       "\n",
       "    .dataframe tbody tr th {\n",
       "        vertical-align: top;\n",
       "    }\n",
       "\n",
       "    .dataframe thead th {\n",
       "        text-align: right;\n",
       "    }\n",
       "</style>\n",
       "<table border=\"1\" class=\"dataframe\">\n",
       "  <thead>\n",
       "    <tr style=\"text-align: right;\">\n",
       "      <th></th>\n",
       "      <th>Character</th>\n",
       "      <th>Universe</th>\n",
       "      <th>Strength</th>\n",
       "      <th>Speed</th>\n",
       "      <th>Intelligence</th>\n",
       "      <th>SpecialAbilities</th>\n",
       "      <th>Weaknesses</th>\n",
       "    </tr>\n",
       "  </thead>\n",
       "  <tbody>\n",
       "    <tr>\n",
       "      <th>0</th>\n",
       "      <td>Wonder Woman</td>\n",
       "      <td>Marvel</td>\n",
       "      <td>7</td>\n",
       "      <td>8</td>\n",
       "      <td>3</td>\n",
       "      <td>Telekinesis</td>\n",
       "      <td>Kryptonite</td>\n",
       "    </tr>\n",
       "    <tr>\n",
       "      <th>1</th>\n",
       "      <td>Iron Man</td>\n",
       "      <td>Marvel</td>\n",
       "      <td>4</td>\n",
       "      <td>7</td>\n",
       "      <td>9</td>\n",
       "      <td>Telekinesis</td>\n",
       "      <td>Kryptonite</td>\n",
       "    </tr>\n",
       "    <tr>\n",
       "      <th>2</th>\n",
       "      <td>Iron Man</td>\n",
       "      <td>DC Comics</td>\n",
       "      <td>8</td>\n",
       "      <td>7</td>\n",
       "      <td>5</td>\n",
       "      <td>Telekinesis</td>\n",
       "      <td>Magic</td>\n",
       "    </tr>\n",
       "    <tr>\n",
       "      <th>3</th>\n",
       "      <td>Spider-Man</td>\n",
       "      <td>DC Comics</td>\n",
       "      <td>5</td>\n",
       "      <td>6</td>\n",
       "      <td>10</td>\n",
       "      <td>Telekinesis</td>\n",
       "      <td>Kryptonite</td>\n",
       "    </tr>\n",
       "    <tr>\n",
       "      <th>4</th>\n",
       "      <td>Flash</td>\n",
       "      <td>Marvel</td>\n",
       "      <td>7</td>\n",
       "      <td>6</td>\n",
       "      <td>2</td>\n",
       "      <td>Invisibility</td>\n",
       "      <td>Magic</td>\n",
       "    </tr>\n",
       "  </tbody>\n",
       "</table>\n",
       "</div>"
      ],
      "text/plain": [
       "      Character   Universe  Strength  Speed  Intelligence SpecialAbilities  \\\n",
       "0  Wonder Woman     Marvel         7      8             3      Telekinesis   \n",
       "1      Iron Man     Marvel         4      7             9      Telekinesis   \n",
       "2      Iron Man  DC Comics         8      7             5      Telekinesis   \n",
       "3    Spider-Man  DC Comics         5      6            10      Telekinesis   \n",
       "4         Flash     Marvel         7      6             2     Invisibility   \n",
       "\n",
       "   Weaknesses  \n",
       "0  Kryptonite  \n",
       "1  Kryptonite  \n",
       "2       Magic  \n",
       "3  Kryptonite  \n",
       "4       Magic  "
      ]
     },
     "execution_count": 5,
     "metadata": {},
     "output_type": "execute_result"
    }
   ],
   "source": [
    "X.head()"
   ]
  },
  {
   "cell_type": "code",
   "execution_count": 6,
   "id": "37393cf9-b442-435e-9fd4-72d9bc752f65",
   "metadata": {},
   "outputs": [
    {
     "data": {
      "text/plain": [
       "0    0\n",
       "1    0\n",
       "2    0\n",
       "3    0\n",
       "4    0\n",
       "Name: BattleOutcome, dtype: int64"
      ]
     },
     "execution_count": 6,
     "metadata": {},
     "output_type": "execute_result"
    }
   ],
   "source": [
    "Y = df['BattleOutcome']\n",
    "Y.head()"
   ]
  },
  {
   "cell_type": "code",
   "execution_count": 7,
   "id": "fd321d04-8489-420c-8e44-908c4adcfa54",
   "metadata": {},
   "outputs": [
    {
     "data": {
      "text/plain": [
       "array(['Wonder Woman', 'Iron Man', 'Spider-Man', 'Flash', 'Thor',\n",
       "       'Batman', 'Superman', 'Captain America'], dtype=object)"
      ]
     },
     "execution_count": 7,
     "metadata": {},
     "output_type": "execute_result"
    }
   ],
   "source": [
    "df['Character'].unique()"
   ]
  },
  {
   "cell_type": "code",
   "execution_count": 8,
   "id": "fd6c6f4a-ac9b-4359-9c27-11a01c368891",
   "metadata": {},
   "outputs": [
    {
     "data": {
      "text/plain": [
       "0    Wonder_Woman\n",
       "1        Iron_Man\n",
       "2        Iron_Man\n",
       "3      Spider-Man\n",
       "4           Flash\n",
       "Name: Character, dtype: object"
      ]
     },
     "execution_count": 8,
     "metadata": {},
     "output_type": "execute_result"
    }
   ],
   "source": [
    "X['Character'].replace(' ','_',regex=True,inplace=True)\n",
    "X['Character'].head()"
   ]
  },
  {
   "cell_type": "code",
   "execution_count": 9,
   "id": "7787f500-12a5-4d84-a972-ed8002d3200d",
   "metadata": {},
   "outputs": [
    {
     "data": {
      "text/html": [
       "<div>\n",
       "<style scoped>\n",
       "    .dataframe tbody tr th:only-of-type {\n",
       "        vertical-align: middle;\n",
       "    }\n",
       "\n",
       "    .dataframe tbody tr th {\n",
       "        vertical-align: top;\n",
       "    }\n",
       "\n",
       "    .dataframe thead th {\n",
       "        text-align: right;\n",
       "    }\n",
       "</style>\n",
       "<table border=\"1\" class=\"dataframe\">\n",
       "  <thead>\n",
       "    <tr style=\"text-align: right;\">\n",
       "      <th></th>\n",
       "      <th>Strength</th>\n",
       "      <th>Speed</th>\n",
       "      <th>Intelligence</th>\n",
       "      <th>Character_Batman</th>\n",
       "      <th>Character_Captain_America</th>\n",
       "      <th>Character_Flash</th>\n",
       "      <th>Character_Iron_Man</th>\n",
       "      <th>Character_Spider-Man</th>\n",
       "      <th>Character_Superman</th>\n",
       "      <th>Character_Thor</th>\n",
       "      <th>...</th>\n",
       "      <th>Universe_DC Comics</th>\n",
       "      <th>Universe_Marvel</th>\n",
       "      <th>SpecialAbilities_Flight</th>\n",
       "      <th>SpecialAbilities_Invisibility</th>\n",
       "      <th>SpecialAbilities_Super Strength</th>\n",
       "      <th>SpecialAbilities_Telekinesis</th>\n",
       "      <th>Weaknesses_Kryptonite</th>\n",
       "      <th>Weaknesses_Magic</th>\n",
       "      <th>Weaknesses_Silver</th>\n",
       "      <th>Weaknesses_Wooden Stake</th>\n",
       "    </tr>\n",
       "  </thead>\n",
       "  <tbody>\n",
       "    <tr>\n",
       "      <th>0</th>\n",
       "      <td>7</td>\n",
       "      <td>8</td>\n",
       "      <td>3</td>\n",
       "      <td>0</td>\n",
       "      <td>0</td>\n",
       "      <td>0</td>\n",
       "      <td>0</td>\n",
       "      <td>0</td>\n",
       "      <td>0</td>\n",
       "      <td>0</td>\n",
       "      <td>...</td>\n",
       "      <td>0</td>\n",
       "      <td>1</td>\n",
       "      <td>0</td>\n",
       "      <td>0</td>\n",
       "      <td>0</td>\n",
       "      <td>1</td>\n",
       "      <td>1</td>\n",
       "      <td>0</td>\n",
       "      <td>0</td>\n",
       "      <td>0</td>\n",
       "    </tr>\n",
       "    <tr>\n",
       "      <th>1</th>\n",
       "      <td>4</td>\n",
       "      <td>7</td>\n",
       "      <td>9</td>\n",
       "      <td>0</td>\n",
       "      <td>0</td>\n",
       "      <td>0</td>\n",
       "      <td>1</td>\n",
       "      <td>0</td>\n",
       "      <td>0</td>\n",
       "      <td>0</td>\n",
       "      <td>...</td>\n",
       "      <td>0</td>\n",
       "      <td>1</td>\n",
       "      <td>0</td>\n",
       "      <td>0</td>\n",
       "      <td>0</td>\n",
       "      <td>1</td>\n",
       "      <td>1</td>\n",
       "      <td>0</td>\n",
       "      <td>0</td>\n",
       "      <td>0</td>\n",
       "    </tr>\n",
       "    <tr>\n",
       "      <th>2</th>\n",
       "      <td>8</td>\n",
       "      <td>7</td>\n",
       "      <td>5</td>\n",
       "      <td>0</td>\n",
       "      <td>0</td>\n",
       "      <td>0</td>\n",
       "      <td>1</td>\n",
       "      <td>0</td>\n",
       "      <td>0</td>\n",
       "      <td>0</td>\n",
       "      <td>...</td>\n",
       "      <td>1</td>\n",
       "      <td>0</td>\n",
       "      <td>0</td>\n",
       "      <td>0</td>\n",
       "      <td>0</td>\n",
       "      <td>1</td>\n",
       "      <td>0</td>\n",
       "      <td>1</td>\n",
       "      <td>0</td>\n",
       "      <td>0</td>\n",
       "    </tr>\n",
       "    <tr>\n",
       "      <th>3</th>\n",
       "      <td>5</td>\n",
       "      <td>6</td>\n",
       "      <td>10</td>\n",
       "      <td>0</td>\n",
       "      <td>0</td>\n",
       "      <td>0</td>\n",
       "      <td>0</td>\n",
       "      <td>1</td>\n",
       "      <td>0</td>\n",
       "      <td>0</td>\n",
       "      <td>...</td>\n",
       "      <td>1</td>\n",
       "      <td>0</td>\n",
       "      <td>0</td>\n",
       "      <td>0</td>\n",
       "      <td>0</td>\n",
       "      <td>1</td>\n",
       "      <td>1</td>\n",
       "      <td>0</td>\n",
       "      <td>0</td>\n",
       "      <td>0</td>\n",
       "    </tr>\n",
       "    <tr>\n",
       "      <th>4</th>\n",
       "      <td>7</td>\n",
       "      <td>6</td>\n",
       "      <td>2</td>\n",
       "      <td>0</td>\n",
       "      <td>0</td>\n",
       "      <td>1</td>\n",
       "      <td>0</td>\n",
       "      <td>0</td>\n",
       "      <td>0</td>\n",
       "      <td>0</td>\n",
       "      <td>...</td>\n",
       "      <td>0</td>\n",
       "      <td>1</td>\n",
       "      <td>0</td>\n",
       "      <td>1</td>\n",
       "      <td>0</td>\n",
       "      <td>0</td>\n",
       "      <td>0</td>\n",
       "      <td>1</td>\n",
       "      <td>0</td>\n",
       "      <td>0</td>\n",
       "    </tr>\n",
       "  </tbody>\n",
       "</table>\n",
       "<p>5 rows × 21 columns</p>\n",
       "</div>"
      ],
      "text/plain": [
       "   Strength  Speed  Intelligence  Character_Batman  Character_Captain_America  \\\n",
       "0         7      8             3                 0                          0   \n",
       "1         4      7             9                 0                          0   \n",
       "2         8      7             5                 0                          0   \n",
       "3         5      6            10                 0                          0   \n",
       "4         7      6             2                 0                          0   \n",
       "\n",
       "   Character_Flash  Character_Iron_Man  Character_Spider-Man  \\\n",
       "0                0                   0                     0   \n",
       "1                0                   1                     0   \n",
       "2                0                   1                     0   \n",
       "3                0                   0                     1   \n",
       "4                1                   0                     0   \n",
       "\n",
       "   Character_Superman  Character_Thor  ...  Universe_DC Comics  \\\n",
       "0                   0               0  ...                   0   \n",
       "1                   0               0  ...                   0   \n",
       "2                   0               0  ...                   1   \n",
       "3                   0               0  ...                   1   \n",
       "4                   0               0  ...                   0   \n",
       "\n",
       "   Universe_Marvel  SpecialAbilities_Flight  SpecialAbilities_Invisibility  \\\n",
       "0                1                        0                              0   \n",
       "1                1                        0                              0   \n",
       "2                0                        0                              0   \n",
       "3                0                        0                              0   \n",
       "4                1                        0                              1   \n",
       "\n",
       "   SpecialAbilities_Super Strength  SpecialAbilities_Telekinesis  \\\n",
       "0                                0                             1   \n",
       "1                                0                             1   \n",
       "2                                0                             1   \n",
       "3                                0                             1   \n",
       "4                                0                             0   \n",
       "\n",
       "   Weaknesses_Kryptonite  Weaknesses_Magic  Weaknesses_Silver  \\\n",
       "0                      1                 0                  0   \n",
       "1                      1                 0                  0   \n",
       "2                      0                 1                  0   \n",
       "3                      1                 0                  0   \n",
       "4                      0                 1                  0   \n",
       "\n",
       "   Weaknesses_Wooden Stake  \n",
       "0                        0  \n",
       "1                        0  \n",
       "2                        0  \n",
       "3                        0  \n",
       "4                        0  \n",
       "\n",
       "[5 rows x 21 columns]"
      ]
     },
     "execution_count": 9,
     "metadata": {},
     "output_type": "execute_result"
    }
   ],
   "source": [
    "X_encoded = pd.get_dummies(X,columns=['Character',\t'Universe', 'SpecialAbilities', 'Weaknesses'])\n",
    "X_encoded.head()"
   ]
  },
  {
   "cell_type": "code",
   "execution_count": 10,
   "id": "b50c437b-7693-424c-8e80-a1fc1f1bc44e",
   "metadata": {},
   "outputs": [],
   "source": [
    "X_train, X_test, Y_train, Y_test = train_test_split(X_encoded,Y,test_size=0.2,random_state=42,stratify=Y)"
   ]
  },
  {
   "cell_type": "code",
   "execution_count": 11,
   "id": "1e1c8877-490d-4bb8-8b1f-75c8c2fa6ee6",
   "metadata": {},
   "outputs": [],
   "source": [
    "import xgboost as xgb"
   ]
  },
  {
   "cell_type": "code",
   "execution_count": 12,
   "id": "38caef65-7f98-4cf5-9d88-ce45d3af8ece",
   "metadata": {},
   "outputs": [],
   "source": [
    "train = xgb.DMatrix(X_train , label=Y_train)\n",
    "test = xgb.DMatrix(X_test , label=Y_test)"
   ]
  },
  {
   "cell_type": "code",
   "execution_count": 93,
   "id": "bb21b518-ec28-477e-a6c8-c3797098a665",
   "metadata": {},
   "outputs": [],
   "source": [
    "param = {\n",
    "    'max_depth': 4,\n",
    "    'eta': 0.3,\n",
    "    'objective': 'binary:logistic',\n",
    "    'num_class': 1} \n",
    "epochs = 30"
   ]
  },
  {
   "cell_type": "code",
   "execution_count": 94,
   "id": "4ccff02f-a696-4443-a3bb-0d96329746c0",
   "metadata": {},
   "outputs": [],
   "source": [
    "model = xgb.train(param, train, epochs)"
   ]
  },
  {
   "cell_type": "code",
   "execution_count": 95,
   "id": "58c875fa-2362-415b-a3a4-d7e39215d9f7",
   "metadata": {},
   "outputs": [],
   "source": [
    "predictions = model.predict(test)\n",
    "predictions = [1 if x > 0.5 else 0 for x in predictions]"
   ]
  },
  {
   "cell_type": "code",
   "execution_count": 96,
   "id": "b6bc4e5d-833b-462e-8d59-f060df52a8c8",
   "metadata": {},
   "outputs": [
    {
     "data": {
      "text/plain": [
       "0.8110403397027601"
      ]
     },
     "execution_count": 96,
     "metadata": {},
     "output_type": "execute_result"
    }
   ],
   "source": [
    "from sklearn.metrics import accuracy_score\n",
    "\n",
    "accuracy_score(Y_test, predictions)"
   ]
  },
  {
   "cell_type": "code",
   "execution_count": 72,
   "id": "3926b153-958b-44a7-9d30-23efa7dbdf6a",
   "metadata": {},
   "outputs": [
    {
     "data": {
      "image/png": "[encoded data removed]",
      "text/plain": [
       "<Figure size 1000x700 with 2 Axes>"
      ]
     },
     "metadata": {},
     "output_type": "display_data"
    }
   ],
   "source": [
    "import matplotlib.pyplot as plt\n",
    "import seaborn as sns\n",
    "from sklearn.metrics import confusion_matrix\n",
    "\n",
    "# Calculate the confusion matrix\n",
    "conf_matrix = confusion_matrix(Y_test, predictions)\n",
    "\n",
    "# Plot the confusion matrix\n",
    "plt.figure(figsize=(10, 7))\n",
    "sns.heatmap(conf_matrix, annot=True, fmt='d', cmap='Blues', xticklabels=['Won','Lost'], yticklabels=['Won','Lost'])\n",
    "plt.xlabel('Predicted')\n",
    "plt.ylabel('Actual')\n",
    "plt.title('Confusion Matrix')\n",
    "plt.show()"
   ]
  },
  {
   "cell_type": "markdown",
   "id": "2d7088be-6b3a-4b53-a41c-c8d22e69e518",
   "metadata": {},
   "source": [
    "## Neural Networks"
   ]
  },
  {
   "cell_type": "code",
   "execution_count": 58,
   "id": "d1602a0d-0f4e-42e7-abfb-8c5b88b12fa1",
   "metadata": {},
   "outputs": [],
   "source": [
    "from tensorflow.keras.models import Sequential, load_model\n",
    "from tensorflow.keras.layers import Dense\n",
    "from sklearn.metrics import accuracy_score"
   ]
  },
  {
   "cell_type": "code",
   "execution_count": 59,
   "id": "cf8b1646-a48f-4584-b6c1-0d3e23afae68",
   "metadata": {},
   "outputs": [
    {
     "name": "stderr",
     "output_type": "stream",
     "text": [
      "C:\\Users\\Ishan Pardeshi\\AppData\\Local\\Programs\\Python\\Python311\\Lib\\site-packages\\keras\\src\\layers\\core\\dense.py:87: UserWarning: Do not pass an `input_shape`/`input_dim` argument to a layer. When using Sequential models, prefer using an `Input(shape)` object as the first layer in the model instead.\n",
      "  super().__init__(activity_regularizer=activity_regularizer, **kwargs)\n"
     ]
    }
   ],
   "source": [
    "model = Sequential([\n",
    "    Dense(units=32,activation='relu',input_dim=len(X_train.columns)),\n",
    "    Dense(units=64,activation='relu'),\n",
    "    Dense(units=1,activation='sigmoid')\n",
    "])"
   ]
  },
  {
   "cell_type": "code",
   "execution_count": 60,
   "id": "6196c802-ba40-4001-b899-f35fdf8a2d16",
   "metadata": {},
   "outputs": [],
   "source": [
    "model.compile(loss='binary_crossentropy', optimizer='adam', metrics=['accuracy'])"
   ]
  },
  {
   "cell_type": "code",
   "execution_count": 65,
   "id": "81c47726-3401-4502-bf6e-2c20950ba5f1",
   "metadata": {},
   "outputs": [
    {
     "name": "stdout",
     "output_type": "stream",
     "text": [
      "Epoch 1/10\n",
      "\u001b[1m47/47\u001b[0m \u001b[32m━━━━━━━━━━━━━━━━━━━━\u001b[0m\u001b[37m\u001b[0m \u001b[1m0s\u001b[0m 534us/step - accuracy: 0.8438 - loss: 0.3150\n",
      "Epoch 2/10\n",
      "\u001b[1m47/47\u001b[0m \u001b[32m━━━━━━━━━━━━━━━━━━━━\u001b[0m\u001b[37m\u001b[0m \u001b[1m0s\u001b[0m 650us/step - accuracy: 0.8426 - loss: 0.3218\n",
      "Epoch 3/10\n",
      "\u001b[1m47/47\u001b[0m \u001b[32m━━━━━━━━━━━━━━━━━━━━\u001b[0m\u001b[37m\u001b[0m \u001b[1m0s\u001b[0m 611us/step - accuracy: 0.8365 - loss: 0.3195\n",
      "Epoch 4/10\n",
      "\u001b[1m47/47\u001b[0m \u001b[32m━━━━━━━━━━━━━━━━━━━━\u001b[0m\u001b[37m\u001b[0m \u001b[1m0s\u001b[0m 660us/step - accuracy: 0.8512 - loss: 0.3248\n",
      "Epoch 5/10\n",
      "\u001b[1m47/47\u001b[0m \u001b[32m━━━━━━━━━━━━━━━━━━━━\u001b[0m\u001b[37m\u001b[0m \u001b[1m0s\u001b[0m 674us/step - accuracy: 0.8495 - loss: 0.3122\n",
      "Epoch 6/10\n",
      "\u001b[1m47/47\u001b[0m \u001b[32m━━━━━━━━━━━━━━━━━━━━\u001b[0m\u001b[37m\u001b[0m \u001b[1m0s\u001b[0m 653us/step - accuracy: 0.8474 - loss: 0.3160\n",
      "Epoch 7/10\n",
      "\u001b[1m47/47\u001b[0m \u001b[32m━━━━━━━━━━━━━━━━━━━━\u001b[0m\u001b[37m\u001b[0m \u001b[1m0s\u001b[0m 663us/step - accuracy: 0.8454 - loss: 0.3142\n",
      "Epoch 8/10\n",
      "\u001b[1m47/47\u001b[0m \u001b[32m━━━━━━━━━━━━━━━━━━━━\u001b[0m\u001b[37m\u001b[0m \u001b[1m0s\u001b[0m 692us/step - accuracy: 0.8504 - loss: 0.3103\n",
      "Epoch 9/10\n",
      "\u001b[1m47/47\u001b[0m \u001b[32m━━━━━━━━━━━━━━━━━━━━\u001b[0m\u001b[37m\u001b[0m \u001b[1m0s\u001b[0m 776us/step - accuracy: 0.8361 - loss: 0.3176\n",
      "Epoch 10/10\n",
      "\u001b[1m47/47\u001b[0m \u001b[32m━━━━━━━━━━━━━━━━━━━━\u001b[0m\u001b[37m\u001b[0m \u001b[1m0s\u001b[0m 802us/step - accuracy: 0.8455 - loss: 0.3206\n"
     ]
    }
   ],
   "source": [
    "model.fit(X_train,Y_train,epochs=10,batch_size=40);"
   ]
  },
  {
   "cell_type": "code",
   "execution_count": 66,
   "id": "db62132d-8f8b-46aa-8b03-d8727a8a740e",
   "metadata": {},
   "outputs": [
    {
     "name": "stdout",
     "output_type": "stream",
     "text": [
      "\u001b[1m15/15\u001b[0m \u001b[32m━━━━━━━━━━━━━━━━━━━━\u001b[0m\u001b[37m\u001b[0m \u001b[1m0s\u001b[0m 747us/step\n"
     ]
    }
   ],
   "source": [
    "y_hat=model.predict(X_test)\n",
    "y_hat=[0 if val <0.5 else 1 for val in y_hat]"
   ]
  },
  {
   "cell_type": "code",
   "execution_count": 67,
   "id": "4d6b5fb2-e732-4ea5-97ee-dc31b42dc8ca",
   "metadata": {},
   "outputs": [
    {
     "data": {
      "text/plain": [
       "0.7834394904458599"
      ]
     },
     "execution_count": 67,
     "metadata": {},
     "output_type": "execute_result"
    }
   ],
   "source": [
    "accuracy_score(Y_test,y_hat)"
   ]
  },
  {
   "cell_type": "code",
   "execution_count": 64,
   "id": "3e4065c4-b772-46d2-b86b-4965cfb9300c",
   "metadata": {},
   "outputs": [
    {
     "data": {
      "image/png": "[encoded data removed]",
      "text/plain": [
       "<Figure size 1000x700 with 2 Axes>"
      ]
     },
     "metadata": {},
     "output_type": "display_data"
    }
   ],
   "source": [
    "import matplotlib.pyplot as plt\n",
    "import seaborn as sns\n",
    "from sklearn.metrics import confusion_matrix\n",
    "\n",
    "# Calculate the confusion matrix\n",
    "conf_matrix = confusion_matrix(Y_test, y_hat)\n",
    "\n",
    "# Plot the confusion matrix\n",
    "plt.figure(figsize=(10, 7))\n",
    "sns.heatmap(conf_matrix, annot=True, fmt='d', cmap='Oranges', xticklabels=['Won','Lost'], yticklabels=['Won','Lost'])\n",
    "plt.xlabel('Predicted')\n",
    "plt.ylabel('Actual')\n",
    "plt.title('Confusion Matrix')\n",
    "plt.show()"
   ]
  }
 ],
 "metadata": {
  "kernelspec": {
   "display_name": "Python 3 (ipykernel)",
   "language": "python",
   "name": "python3"
  },
  "language_info": {
   "codemirror_mode": {
    "name": "ipython",
    "version": 3
   },
   "file_extension": ".py",
   "mimetype": "text/x-python",
   "name": "python",
   "nbconvert_exporter": "python",
   "pygments_lexer": "ipython3",
   "version": "3.11.9"
  }
 },
 "nbformat": 4,
 "nbformat_minor": 5
}
